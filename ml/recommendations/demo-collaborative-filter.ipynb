{
 "cells": [
  {
   "cell_type": "code",
   "execution_count": 1,
   "id": "f48f0cc6",
   "metadata": {},
   "outputs": [],
   "source": [
    "from collections import OrderedDict\n",
    "import pandas as pd\n",
    "\n",
    "from collaborative_filter import CollaborativeFilterRecommender\n",
    "from models.collaborative_filter_model import CollaborativeFilterModel"
   ]
  },
  {
   "cell_type": "code",
   "execution_count": 2,
   "id": "f6cc73e9",
   "metadata": {},
   "outputs": [],
   "source": [
    "movies = pd.read_csv('../data/movies_nw.csv')\n",
    "ratings = pd.read_csv('../data/ratings.csv')"
   ]
  },
  {
   "cell_type": "code",
   "execution_count": 3,
   "id": "78268712",
   "metadata": {},
   "outputs": [],
   "source": [
    "def enrich_recommends(recommends, query):\n",
    "    return pd.DataFrame([(r,\n",
    "                          movies.query(query).title.values[0], \n",
    "                          movies.query(query).rating.values[0],\n",
    "                          movies.query(query).genres.values[0]) \n",
    "                         for r in recommends], columns=['id', 'title', 'rating', 'genres'])"
   ]
  },
  {
   "cell_type": "code",
   "execution_count": 4,
   "id": "3655c9b8",
   "metadata": {},
   "outputs": [],
   "source": [
    "recommender = CollaborativeFilterRecommender('models/collaborative_filter.pickle')"
   ]
  },
  {
   "cell_type": "code",
   "execution_count": 5,
   "id": "2ccf3dce",
   "metadata": {},
   "outputs": [],
   "source": [
    "raw_recommends = recommender.get_recommends(user_id=2, item_ids=[1,3,6,110,235,296,316,333,349])"
   ]
  },
  {
   "cell_type": "code",
   "execution_count": 6,
   "id": "d87f9aa5",
   "metadata": {},
   "outputs": [],
   "source": [
    "ordered_ratings = OrderedDict(sorted(raw_recommends[1].items(), key=lambda x: x[1], reverse=True))"
   ]
  },
  {
   "cell_type": "code",
   "execution_count": 7,
   "id": "825de36a",
   "metadata": {},
   "outputs": [],
   "source": [
    "movie_ids = list(ordered_ratings.keys())"
   ]
  },
  {
   "cell_type": "code",
   "execution_count": 8,
   "id": "34bb636e",
   "metadata": {},
   "outputs": [
    {
     "data": {
      "text/plain": [
       "[6, 296, 110, 1, 235, 333, 316, 349, 3]"
      ]
     },
     "execution_count": 8,
     "metadata": {},
     "output_type": "execute_result"
    }
   ],
   "source": [
    "movie_ids"
   ]
  },
  {
   "cell_type": "code",
   "execution_count": 9,
   "id": "96287e72",
   "metadata": {},
   "outputs": [],
   "source": [
    "predicted_ratings = list(ordered_ratings.values())"
   ]
  },
  {
   "cell_type": "code",
   "execution_count": 10,
   "id": "26454322",
   "metadata": {},
   "outputs": [
    {
     "data": {
      "text/plain": [
       "[4.621638897202996,\n",
       " 4.605162537584738,\n",
       " 4.3390326349495405,\n",
       " 4.196877646911401,\n",
       " 4.126995769181767,\n",
       " 4.096833894550579,\n",
       " 3.852522625337873,\n",
       " 3.7202542862891925,\n",
       " 3.2072434519771584]"
      ]
     },
     "execution_count": 10,
     "metadata": {},
     "output_type": "execute_result"
    }
   ],
   "source": [
    "predicted_ratings"
   ]
  },
  {
   "cell_type": "code",
   "execution_count": 11,
   "id": "94f3363d",
   "metadata": {},
   "outputs": [],
   "source": [
    "result = enrich_recommends(movie_ids, 'movieId == @r')"
   ]
  },
  {
   "cell_type": "code",
   "execution_count": 12,
   "id": "6321af4c",
   "metadata": {},
   "outputs": [],
   "source": [
    "result['predicted_rating'] = predicted_ratings"
   ]
  },
  {
   "cell_type": "code",
   "execution_count": 13,
   "id": "c75c67fc",
   "metadata": {},
   "outputs": [
    {
     "data": {
      "text/html": [
       "<div>\n",
       "<style scoped>\n",
       "    .dataframe tbody tr th:only-of-type {\n",
       "        vertical-align: middle;\n",
       "    }\n",
       "\n",
       "    .dataframe tbody tr th {\n",
       "        vertical-align: top;\n",
       "    }\n",
       "\n",
       "    .dataframe thead th {\n",
       "        text-align: right;\n",
       "    }\n",
       "</style>\n",
       "<table border=\"1\" class=\"dataframe\">\n",
       "  <thead>\n",
       "    <tr style=\"text-align: right;\">\n",
       "      <th></th>\n",
       "      <th>id</th>\n",
       "      <th>title</th>\n",
       "      <th>rating</th>\n",
       "      <th>genres</th>\n",
       "      <th>predicted_rating</th>\n",
       "    </tr>\n",
       "  </thead>\n",
       "  <tbody>\n",
       "    <tr>\n",
       "      <th>0</th>\n",
       "      <td>6</td>\n",
       "      <td>Heat</td>\n",
       "      <td>3.9</td>\n",
       "      <td>Action|Crime|Thriller</td>\n",
       "      <td>4.621639</td>\n",
       "    </tr>\n",
       "    <tr>\n",
       "      <th>1</th>\n",
       "      <td>296</td>\n",
       "      <td>Pulp Fiction</td>\n",
       "      <td>4.2</td>\n",
       "      <td>Comedy|Crime|Drama|Thriller</td>\n",
       "      <td>4.605163</td>\n",
       "    </tr>\n",
       "    <tr>\n",
       "      <th>2</th>\n",
       "      <td>110</td>\n",
       "      <td>Braveheart</td>\n",
       "      <td>4.0</td>\n",
       "      <td>Action|Drama|War</td>\n",
       "      <td>4.339033</td>\n",
       "    </tr>\n",
       "    <tr>\n",
       "      <th>3</th>\n",
       "      <td>1</td>\n",
       "      <td>Toy Story</td>\n",
       "      <td>3.9</td>\n",
       "      <td>Adventure|Animation|Children|Comedy|Fantasy</td>\n",
       "      <td>4.196878</td>\n",
       "    </tr>\n",
       "    <tr>\n",
       "      <th>4</th>\n",
       "      <td>235</td>\n",
       "      <td>Ed Wood</td>\n",
       "      <td>3.7</td>\n",
       "      <td>Comedy|Drama</td>\n",
       "      <td>4.126996</td>\n",
       "    </tr>\n",
       "    <tr>\n",
       "      <th>5</th>\n",
       "      <td>333</td>\n",
       "      <td>Tommy Boy</td>\n",
       "      <td>3.8</td>\n",
       "      <td>Comedy</td>\n",
       "      <td>4.096834</td>\n",
       "    </tr>\n",
       "    <tr>\n",
       "      <th>6</th>\n",
       "      <td>316</td>\n",
       "      <td>Stargate</td>\n",
       "      <td>3.4</td>\n",
       "      <td>Action|Adventure|Sci-Fi</td>\n",
       "      <td>3.852523</td>\n",
       "    </tr>\n",
       "    <tr>\n",
       "      <th>7</th>\n",
       "      <td>349</td>\n",
       "      <td>Clear and Present Danger</td>\n",
       "      <td>3.6</td>\n",
       "      <td>Action|Crime|Drama|Thriller</td>\n",
       "      <td>3.720254</td>\n",
       "    </tr>\n",
       "    <tr>\n",
       "      <th>8</th>\n",
       "      <td>3</td>\n",
       "      <td>Grumpier Old Men</td>\n",
       "      <td>3.3</td>\n",
       "      <td>Comedy|Romance</td>\n",
       "      <td>3.207243</td>\n",
       "    </tr>\n",
       "  </tbody>\n",
       "</table>\n",
       "</div>"
      ],
      "text/plain": [
       "    id                      title  rating  \\\n",
       "0    6                      Heat      3.9   \n",
       "1  296              Pulp Fiction      4.2   \n",
       "2  110                Braveheart      4.0   \n",
       "3    1                 Toy Story      3.9   \n",
       "4  235                   Ed Wood      3.7   \n",
       "5  333                 Tommy Boy      3.8   \n",
       "6  316                  Stargate      3.4   \n",
       "7  349  Clear and Present Danger      3.6   \n",
       "8    3          Grumpier Old Men      3.3   \n",
       "\n",
       "                                        genres  predicted_rating  \n",
       "0                        Action|Crime|Thriller          4.621639  \n",
       "1                  Comedy|Crime|Drama|Thriller          4.605163  \n",
       "2                             Action|Drama|War          4.339033  \n",
       "3  Adventure|Animation|Children|Comedy|Fantasy          4.196878  \n",
       "4                                 Comedy|Drama          4.126996  \n",
       "5                                       Comedy          4.096834  \n",
       "6                      Action|Adventure|Sci-Fi          3.852523  \n",
       "7                  Action|Crime|Drama|Thriller          3.720254  \n",
       "8                               Comedy|Romance          3.207243  "
      ]
     },
     "execution_count": 13,
     "metadata": {},
     "output_type": "execute_result"
    }
   ],
   "source": [
    "result"
   ]
  }
 ],
 "metadata": {
  "kernelspec": {
   "display_name": "Python 3 (ipykernel)",
   "language": "python",
   "name": "python3"
  },
  "language_info": {
   "codemirror_mode": {
    "name": "ipython",
    "version": 3
   },
   "file_extension": ".py",
   "mimetype": "text/x-python",
   "name": "python",
   "nbconvert_exporter": "python",
   "pygments_lexer": "ipython3",
   "version": "3.9.13"
  }
 },
 "nbformat": 4,
 "nbformat_minor": 5
}
