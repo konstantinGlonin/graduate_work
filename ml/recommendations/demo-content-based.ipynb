{
 "cells": [
  {
   "cell_type": "code",
   "execution_count": 1,
   "id": "9e4beaf1",
   "metadata": {},
   "outputs": [],
   "source": [
    "import pandas as pd\n",
    "\n",
    "from content_based import ContentBasedRecommender\n",
    "from models.content_based_model import ContentBasedModel"
   ]
  },
  {
   "cell_type": "code",
   "execution_count": 2,
   "id": "656e6742",
   "metadata": {},
   "outputs": [],
   "source": [
    "movies = pd.read_csv('../data/movies_nw.csv')"
   ]
  },
  {
   "cell_type": "code",
   "execution_count": 3,
   "id": "584f3602",
   "metadata": {},
   "outputs": [],
   "source": [
    "def enrich_recommends(recommends, query):\n",
    "    return pd.DataFrame([(r,\n",
    "                          movies.query(query).title.values[0], \n",
    "                          movies.query(query).rating.values[0],\n",
    "                          movies.query(query).genres.values[0]) \n",
    "                         for r in recommends], columns=['id', 'title', 'rating', 'genres'])"
   ]
  },
  {
   "cell_type": "code",
   "execution_count": 4,
   "id": "69e3bff2",
   "metadata": {},
   "outputs": [],
   "source": [
    "recommender = ContentBasedRecommender('models/content_based.pickle')"
   ]
  },
  {
   "cell_type": "code",
   "execution_count": 5,
   "id": "47e4e44d",
   "metadata": {},
   "outputs": [],
   "source": [
    "# Даём холодные рекомендации к фильму\n",
    "cold_film_recommends = recommender.get_recommends('Action|Adventure|Sci-Fi|Thriller', 'Terminator, The')\n"
   ]
  },
  {
   "cell_type": "code",
   "execution_count": 6,
   "id": "31e4c81a",
   "metadata": {},
   "outputs": [
    {
     "data": {
      "text/plain": [
       "['5be0ce94-0a6c-11ed-98c8-4129adfcc95f',\n",
       " '5be111f6-0a6c-11ed-98c8-4129adfcc95f',\n",
       " '5be10580-0a6c-11ed-98c8-4129adfcc95f',\n",
       " '5be3254a-0a6c-11ed-98c8-4129adfcc95f',\n",
       " '5be4ace4-0a6c-11ed-98c8-4129adfcc95f',\n",
       " '5be31f46-0a6c-11ed-98c8-4129adfcc95f',\n",
       " '5be2a1e2-0a6c-11ed-98c8-4129adfcc95f',\n",
       " '5be59b40-0a6c-11ed-98c8-4129adfcc95f',\n",
       " '5be49038-0a6c-11ed-98c8-4129adfcc95f',\n",
       " '5be3bb22-0a6c-11ed-98c8-4129adfcc95f']"
      ]
     },
     "execution_count": 6,
     "metadata": {},
     "output_type": "execute_result"
    }
   ],
   "source": [
    "cold_film_recommends"
   ]
  },
  {
   "cell_type": "code",
   "execution_count": 7,
   "id": "7ff4dc00",
   "metadata": {},
   "outputs": [
    {
     "data": {
      "text/html": [
       "<div>\n",
       "<style scoped>\n",
       "    .dataframe tbody tr th:only-of-type {\n",
       "        vertical-align: middle;\n",
       "    }\n",
       "\n",
       "    .dataframe tbody tr th {\n",
       "        vertical-align: top;\n",
       "    }\n",
       "\n",
       "    .dataframe thead th {\n",
       "        text-align: right;\n",
       "    }\n",
       "</style>\n",
       "<table border=\"1\" class=\"dataframe\">\n",
       "  <thead>\n",
       "    <tr style=\"text-align: right;\">\n",
       "      <th></th>\n",
       "      <th>id</th>\n",
       "      <th>title</th>\n",
       "      <th>rating</th>\n",
       "      <th>genres</th>\n",
       "    </tr>\n",
       "  </thead>\n",
       "  <tbody>\n",
       "    <tr>\n",
       "      <th>0</th>\n",
       "      <td>5be0ce94-0a6c-11ed-98c8-4129adfcc95f</td>\n",
       "      <td>Terminator 2: Judgment Day</td>\n",
       "      <td>4.0</td>\n",
       "      <td>Action|Sci-Fi</td>\n",
       "    </tr>\n",
       "    <tr>\n",
       "      <th>1</th>\n",
       "      <td>5be111f6-0a6c-11ed-98c8-4129adfcc95f</td>\n",
       "      <td>Terminator, The</td>\n",
       "      <td>3.9</td>\n",
       "      <td>Action|Sci-Fi|Thriller</td>\n",
       "    </tr>\n",
       "    <tr>\n",
       "      <th>2</th>\n",
       "      <td>5be10580-0a6c-11ed-98c8-4129adfcc95f</td>\n",
       "      <td>Abyss, The</td>\n",
       "      <td>3.5</td>\n",
       "      <td>Action|Adventure|Sci-Fi|Thriller</td>\n",
       "    </tr>\n",
       "    <tr>\n",
       "      <th>3</th>\n",
       "      <td>5be3254a-0a6c-11ed-98c8-4129adfcc95f</td>\n",
       "      <td>S.W.A.T.</td>\n",
       "      <td>3.3</td>\n",
       "      <td>Action|Thriller</td>\n",
       "    </tr>\n",
       "    <tr>\n",
       "      <th>4</th>\n",
       "      <td>5be4ace4-0a6c-11ed-98c8-4129adfcc95f</td>\n",
       "      <td>Terminator Salvation</td>\n",
       "      <td>3.2</td>\n",
       "      <td>Action|Adventure|Sci-Fi|Thriller</td>\n",
       "    </tr>\n",
       "    <tr>\n",
       "      <th>5</th>\n",
       "      <td>5be31f46-0a6c-11ed-98c8-4129adfcc95f</td>\n",
       "      <td>Terminator 3: Rise of the Machines</td>\n",
       "      <td>3.0</td>\n",
       "      <td>Action|Adventure|Sci-Fi</td>\n",
       "    </tr>\n",
       "    <tr>\n",
       "      <th>6</th>\n",
       "      <td>5be2a1e2-0a6c-11ed-98c8-4129adfcc95f</td>\n",
       "      <td>One, The</td>\n",
       "      <td>2.8</td>\n",
       "      <td>Action|Sci-Fi|Thriller</td>\n",
       "    </tr>\n",
       "    <tr>\n",
       "      <th>7</th>\n",
       "      <td>5be59b40-0a6c-11ed-98c8-4129adfcc95f</td>\n",
       "      <td>Terminator Genisys</td>\n",
       "      <td>2.5</td>\n",
       "      <td>Action|Adventure|Sci-Fi|Thriller</td>\n",
       "    </tr>\n",
       "    <tr>\n",
       "      <th>8</th>\n",
       "      <td>5be49038-0a6c-11ed-98c8-4129adfcc95f</td>\n",
       "      <td>Babylon A.D.</td>\n",
       "      <td>2.3</td>\n",
       "      <td>Action|Adventure|Sci-Fi|Thriller</td>\n",
       "    </tr>\n",
       "    <tr>\n",
       "      <th>9</th>\n",
       "      <td>5be3bb22-0a6c-11ed-98c8-4129adfcc95f</td>\n",
       "      <td>D.A.R.Y.L.</td>\n",
       "      <td>2.0</td>\n",
       "      <td>Adventure|Children|Sci-Fi</td>\n",
       "    </tr>\n",
       "  </tbody>\n",
       "</table>\n",
       "</div>"
      ],
      "text/plain": [
       "                                     id                                title  \\\n",
       "0  5be0ce94-0a6c-11ed-98c8-4129adfcc95f          Terminator 2: Judgment Day    \n",
       "1  5be111f6-0a6c-11ed-98c8-4129adfcc95f                     Terminator, The    \n",
       "2  5be10580-0a6c-11ed-98c8-4129adfcc95f                          Abyss, The    \n",
       "3  5be3254a-0a6c-11ed-98c8-4129adfcc95f                            S.W.A.T.    \n",
       "4  5be4ace4-0a6c-11ed-98c8-4129adfcc95f                Terminator Salvation    \n",
       "5  5be31f46-0a6c-11ed-98c8-4129adfcc95f  Terminator 3: Rise of the Machines    \n",
       "6  5be2a1e2-0a6c-11ed-98c8-4129adfcc95f                            One, The    \n",
       "7  5be59b40-0a6c-11ed-98c8-4129adfcc95f                  Terminator Genisys    \n",
       "8  5be49038-0a6c-11ed-98c8-4129adfcc95f                        Babylon A.D.    \n",
       "9  5be3bb22-0a6c-11ed-98c8-4129adfcc95f                          D.A.R.Y.L.    \n",
       "\n",
       "   rating                            genres  \n",
       "0     4.0                     Action|Sci-Fi  \n",
       "1     3.9            Action|Sci-Fi|Thriller  \n",
       "2     3.5  Action|Adventure|Sci-Fi|Thriller  \n",
       "3     3.3                   Action|Thriller  \n",
       "4     3.2  Action|Adventure|Sci-Fi|Thriller  \n",
       "5     3.0           Action|Adventure|Sci-Fi  \n",
       "6     2.8            Action|Sci-Fi|Thriller  \n",
       "7     2.5  Action|Adventure|Sci-Fi|Thriller  \n",
       "8     2.3  Action|Adventure|Sci-Fi|Thriller  \n",
       "9     2.0         Adventure|Children|Sci-Fi  "
      ]
     },
     "execution_count": 7,
     "metadata": {},
     "output_type": "execute_result"
    }
   ],
   "source": [
    "enrich_recommends(cold_film_recommends, 'id == @r')"
   ]
  },
  {
   "cell_type": "code",
   "execution_count": 8,
   "id": "bdb44526",
   "metadata": {},
   "outputs": [],
   "source": [
    "# Даём холодные рекомендации пользователю, который выбрал любимые жанры\n",
    "cold_user_recommends = recommender.get_recommends('Action|Adventure|Sci-Fi|Thriller', '')"
   ]
  },
  {
   "cell_type": "code",
   "execution_count": 9,
   "id": "90d60111",
   "metadata": {},
   "outputs": [
    {
     "data": {
      "text/plain": [
       "['5be234d2-0a6c-11ed-98c8-4129adfcc95f',\n",
       " '5be4b9be-0a6c-11ed-98c8-4129adfcc95f',\n",
       " '5be3a84e-0a6c-11ed-98c8-4129adfcc95f',\n",
       " '5be10580-0a6c-11ed-98c8-4129adfcc95f',\n",
       " '5be2c60e-0a6c-11ed-98c8-4129adfcc95f',\n",
       " '5be488fe-0a6c-11ed-98c8-4129adfcc95f',\n",
       " '5be3254a-0a6c-11ed-98c8-4129adfcc95f',\n",
       " '5be49038-0a6c-11ed-98c8-4129adfcc95f',\n",
       " '5be3bb22-0a6c-11ed-98c8-4129adfcc95f',\n",
       " '5be5a91e-0a6c-11ed-98c8-4129adfcc95f']"
      ]
     },
     "execution_count": 9,
     "metadata": {},
     "output_type": "execute_result"
    }
   ],
   "source": [
    "cold_user_recommends"
   ]
  },
  {
   "cell_type": "code",
   "execution_count": 10,
   "id": "dc67925b",
   "metadata": {},
   "outputs": [
    {
     "data": {
      "text/html": [
       "<div>\n",
       "<style scoped>\n",
       "    .dataframe tbody tr th:only-of-type {\n",
       "        vertical-align: middle;\n",
       "    }\n",
       "\n",
       "    .dataframe tbody tr th {\n",
       "        vertical-align: top;\n",
       "    }\n",
       "\n",
       "    .dataframe thead th {\n",
       "        text-align: right;\n",
       "    }\n",
       "</style>\n",
       "<table border=\"1\" class=\"dataframe\">\n",
       "  <thead>\n",
       "    <tr style=\"text-align: right;\">\n",
       "      <th></th>\n",
       "      <th>id</th>\n",
       "      <th>title</th>\n",
       "      <th>rating</th>\n",
       "      <th>genres</th>\n",
       "    </tr>\n",
       "  </thead>\n",
       "  <tbody>\n",
       "    <tr>\n",
       "      <th>0</th>\n",
       "      <td>5be234d2-0a6c-11ed-98c8-4129adfcc95f</td>\n",
       "      <td>X-Men</td>\n",
       "      <td>3.7</td>\n",
       "      <td>Action|Adventure|Sci-Fi</td>\n",
       "    </tr>\n",
       "    <tr>\n",
       "      <th>1</th>\n",
       "      <td>5be4b9be-0a6c-11ed-98c8-4129adfcc95f</td>\n",
       "      <td>9</td>\n",
       "      <td>3.6</td>\n",
       "      <td>Adventure|Animation|Sci-Fi</td>\n",
       "    </tr>\n",
       "    <tr>\n",
       "      <th>2</th>\n",
       "      <td>5be3a84e-0a6c-11ed-98c8-4129adfcc95f</td>\n",
       "      <td>I, Robot</td>\n",
       "      <td>3.5</td>\n",
       "      <td>Action|Adventure|Sci-Fi|Thriller</td>\n",
       "    </tr>\n",
       "    <tr>\n",
       "      <th>3</th>\n",
       "      <td>5be10580-0a6c-11ed-98c8-4129adfcc95f</td>\n",
       "      <td>Abyss, The</td>\n",
       "      <td>3.5</td>\n",
       "      <td>Action|Adventure|Sci-Fi|Thriller</td>\n",
       "    </tr>\n",
       "    <tr>\n",
       "      <th>4</th>\n",
       "      <td>5be2c60e-0a6c-11ed-98c8-4129adfcc95f</td>\n",
       "      <td>Spider-Man</td>\n",
       "      <td>3.5</td>\n",
       "      <td>Action|Adventure|Sci-Fi|Thriller</td>\n",
       "    </tr>\n",
       "    <tr>\n",
       "      <th>5</th>\n",
       "      <td>5be488fe-0a6c-11ed-98c8-4129adfcc95f</td>\n",
       "      <td>Rogue</td>\n",
       "      <td>3.5</td>\n",
       "      <td>Action|Adventure|Horror|Sci-Fi|Thriller</td>\n",
       "    </tr>\n",
       "    <tr>\n",
       "      <th>6</th>\n",
       "      <td>5be3254a-0a6c-11ed-98c8-4129adfcc95f</td>\n",
       "      <td>S.W.A.T.</td>\n",
       "      <td>3.3</td>\n",
       "      <td>Action|Thriller</td>\n",
       "    </tr>\n",
       "    <tr>\n",
       "      <th>7</th>\n",
       "      <td>5be49038-0a6c-11ed-98c8-4129adfcc95f</td>\n",
       "      <td>Babylon A.D.</td>\n",
       "      <td>2.3</td>\n",
       "      <td>Action|Adventure|Sci-Fi|Thriller</td>\n",
       "    </tr>\n",
       "    <tr>\n",
       "      <th>8</th>\n",
       "      <td>5be3bb22-0a6c-11ed-98c8-4129adfcc95f</td>\n",
       "      <td>D.A.R.Y.L.</td>\n",
       "      <td>2.0</td>\n",
       "      <td>Adventure|Children|Sci-Fi</td>\n",
       "    </tr>\n",
       "    <tr>\n",
       "      <th>9</th>\n",
       "      <td>5be5a91e-0a6c-11ed-98c8-4129adfcc95f</td>\n",
       "      <td>Vice</td>\n",
       "      <td>1.0</td>\n",
       "      <td>Action|Adventure|Sci-Fi|Thriller</td>\n",
       "    </tr>\n",
       "  </tbody>\n",
       "</table>\n",
       "</div>"
      ],
      "text/plain": [
       "                                     id          title  rating  \\\n",
       "0  5be234d2-0a6c-11ed-98c8-4129adfcc95f         X-Men      3.7   \n",
       "1  5be4b9be-0a6c-11ed-98c8-4129adfcc95f             9      3.6   \n",
       "2  5be3a84e-0a6c-11ed-98c8-4129adfcc95f      I, Robot      3.5   \n",
       "3  5be10580-0a6c-11ed-98c8-4129adfcc95f    Abyss, The      3.5   \n",
       "4  5be2c60e-0a6c-11ed-98c8-4129adfcc95f    Spider-Man      3.5   \n",
       "5  5be488fe-0a6c-11ed-98c8-4129adfcc95f         Rogue      3.5   \n",
       "6  5be3254a-0a6c-11ed-98c8-4129adfcc95f      S.W.A.T.      3.3   \n",
       "7  5be49038-0a6c-11ed-98c8-4129adfcc95f  Babylon A.D.      2.3   \n",
       "8  5be3bb22-0a6c-11ed-98c8-4129adfcc95f    D.A.R.Y.L.      2.0   \n",
       "9  5be5a91e-0a6c-11ed-98c8-4129adfcc95f          Vice      1.0   \n",
       "\n",
       "                                    genres  \n",
       "0                  Action|Adventure|Sci-Fi  \n",
       "1               Adventure|Animation|Sci-Fi  \n",
       "2         Action|Adventure|Sci-Fi|Thriller  \n",
       "3         Action|Adventure|Sci-Fi|Thriller  \n",
       "4         Action|Adventure|Sci-Fi|Thriller  \n",
       "5  Action|Adventure|Horror|Sci-Fi|Thriller  \n",
       "6                          Action|Thriller  \n",
       "7         Action|Adventure|Sci-Fi|Thriller  \n",
       "8                Adventure|Children|Sci-Fi  \n",
       "9         Action|Adventure|Sci-Fi|Thriller  "
      ]
     },
     "execution_count": 10,
     "metadata": {},
     "output_type": "execute_result"
    }
   ],
   "source": [
    "enrich_recommends(cold_user_recommends, 'id == @r')"
   ]
  }
 ],
 "metadata": {
  "kernelspec": {
   "display_name": "Python 3 (ipykernel)",
   "language": "python",
   "name": "python3"
  },
  "language_info": {
   "codemirror_mode": {
    "name": "ipython",
    "version": 3
   },
   "file_extension": ".py",
   "mimetype": "text/x-python",
   "name": "python",
   "nbconvert_exporter": "python",
   "pygments_lexer": "ipython3",
   "version": "3.9.13"
  }
 },
 "nbformat": 4,
 "nbformat_minor": 5
}
